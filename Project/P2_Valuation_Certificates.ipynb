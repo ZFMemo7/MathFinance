{
 "cells": [
  {
   "cell_type": "markdown",
   "metadata": {},
   "source": [
    "## Part 2: Valuation of certificates ##\n",
    "Choose a traded product based on your underlying in Part 1 for which at least one year daily data of historic prices is available and which cannot be evaluated with closed-form Black- Scholes pricing functions.\n"
   ]
  },
  {
   "cell_type": "markdown",
   "metadata": {},
   "source": [
    "### 2.1 Volatility of the underlying ###\n",
    "Estimate the 100-trading day backward-looking volatility of the return of your underlying for each day within a reasonably chosen time window. Implement a pricing approach for your product. Determine the forward-looking volatility of the underlying implied in the ob- served market price of your product for each day of your chosen time window. Comment on potential deviations between the forward- and backward-looking volatilities."
   ]
  },
  {
   "cell_type": "markdown",
   "metadata": {},
   "source": [
    "#### 2.1 Results ####\n",
    "The underlying is the S&P500. The product is UBS’ Knock-Out warrant\n",
    "(turbo call warrant) expiring on August 14th, 2024. Using a rolling 100-\n",
    "day volatility window from the S&P500 from 2022-07-01 to 2024-07-01,\n",
    "the mean 100-day volatility is 14.80%. Using a Monte-carlo approach\n",
    "and a binomial pricing model to price the product, the calculated price is\n",
    "within a ~3.8-4.1 EUR range. The closing price on July 17th was 1.59\n",
    "EUR. The forward looking volatility on this 30-day window (since expiry\n",
    "is August) through the binomial model, is ~11.62%. The deviations\n",
    "between the backward and forward volatilities occur in (1) rolling\n",
    "window and (2) basis risk. The product only uses a 30 day time frame,\n",
    "so the data is moderately insufficient, and furthermore, the product may\n",
    "inconsistently track the underlying depending on supply and demand for\n",
    "it, thereby understanding or overstating forward-looking implied\n",
    "volatilities."
   ]
  },
  {
   "cell_type": "code",
   "execution_count": 1,
   "metadata": {},
   "outputs": [
    {
     "name": "stdout",
     "output_type": "stream",
     "text": [
      "[*********************100%%**********************]  1 of 1 completed\n",
      "Backward-looking volatility (latest 100-day): 0.1480\n"
     ]
    },
    {
     "name": "stderr",
     "output_type": "stream",
     "text": [
      "/var/folders/3y/xmr77c7911v019_nzm6jm2040000gn/T/ipykernel_30671/1661721091.py:20: SettingWithCopyWarning: \n",
      "A value is trying to be set on a copy of a slice from a DataFrame.\n",
      "Try using .loc[row_indexer,col_indexer] = value instead\n",
      "\n",
      "See the caveats in the documentation: https://pandas.pydata.org/pandas-docs/stable/user_guide/indexing.html#returning-a-view-versus-a-copy\n",
      "  data['rolling_volatility'] = data['log_returns'].rolling(window=lookback_period).std() * np.sqrt(252)\n"
     ]
    },
    {
     "name": "stdout",
     "output_type": "stream",
     "text": [
      "Monte Carlo estimated price: 4.11 EUR\n",
      "Implied volatility: 0.1162\n"
     ]
    }
   ],
   "source": [
    "import numpy as np\n",
    "import pandas as pd\n",
    "import yfinance as yf\n",
    "\n",
    "# Fetching historical data for S&P 500 from Yahoo Finance, dont add the csv file\n",
    "ticker = '^GSPC'\n",
    "data = yf.download(ticker, start='2022-07-01', end='2024-07-01')\n",
    "data['log_returns'] = np.log(data['Close'] / data['Close'].shift(1))\n",
    "data = data.dropna()\n",
    "\n",
    "# Parameters\n",
    "lookback_period = 100\n",
    "T = 1.0  # time to maturity in years\n",
    "r = 0.042  # risk-free interest rate\n",
    "K = 5525  # strike price (knock-out level)\n",
    "num_simulations = 10000  # number of simulations\n",
    "num_steps = 30  # trading days in a year\n",
    "\n",
    "# Backward-looking volatility calculation\n",
    "data['rolling_volatility'] = data['log_returns'].rolling(window=lookback_period).std() * np.sqrt(252)\n",
    "\n",
    "print(f\"Backward-looking volatility (latest 100-day): {data['rolling_volatility'].mean():.4f}\")\n",
    "\n",
    "# Monte Carlo simulation\n",
    "S0 = data['Close'].iloc[-1]\n",
    "sigma = data['rolling_volatility'].mean()\n",
    "dt = T / num_steps\n",
    "discount_factor = np.exp(-r * T)\n",
    "payoffs = []\n",
    "\n",
    "for _ in range(num_simulations):\n",
    "    path = [S0]\n",
    "    for _ in range(num_steps):\n",
    "        z = np.random.standard_normal()\n",
    "        S_t = path[-1] * np.exp((r - 0.5 * sigma**2) * dt + sigma * np.sqrt(dt) * z)\n",
    "        path.append(S_t)\n",
    "    payoff = max(path[-1] - K, 0)\n",
    "    payoffs.append(payoff)\n",
    "\n",
    "# Calculate the hypothetical option price\n",
    "mc_option_price = discount_factor * np.mean(payoffs)/100 #using MC mean payoffs, 1 call = 100 shares\n",
    "print(f\"Monte Carlo estimated price: {mc_option_price:.2f} EUR\")\n",
    "\n",
    "# Forward-looking volatility estimation (implied volatility)\n",
    "# This step typically involves solving for sigma in the pricing model using market prices\n",
    "option_market_price = 340  # actual market price, 1 option = 100*price\n",
    "\n",
    "from scipy.optimize import brentq\n",
    "\n",
    "def implied_volatility(option_market_price, S0, K, T, r, num_steps):\n",
    "    def price_diff(sigma):\n",
    "        #binomial\n",
    "        u = np.exp(sigma * np.sqrt(dt))\n",
    "        d = 1 / u\n",
    "        p = (np.exp(r * dt) - d) / (u - d)\n",
    "        discount_factor = np.exp(-r * dt)\n",
    "        \n",
    "        # Initialize asset prices at maturity\n",
    "        prices = np.zeros(num_steps + 1)\n",
    "        prices[0] = S0 * d**num_steps\n",
    "        for i in range(1, num_steps + 1):\n",
    "            prices[i] = prices[i - 1] * (u / d)\n",
    "        \n",
    "        # Initialize option values at maturity\n",
    "        values = np.maximum(prices - K, 0)\n",
    "        \n",
    "        # Step back through the tree\n",
    "        for i in range(num_steps - 1, -1, -1):\n",
    "            for j in range(i + 1):\n",
    "                values[j] = discount_factor * (p * values[j + 1] + (1 - p) * values[j])\n",
    "        \n",
    "        return values[0] - option_market_price\n",
    "    \n",
    "    implied_vol = brentq(price_diff, 0.01, 1)\n",
    "    return implied_vol\n",
    "\n",
    "implied_vol = implied_volatility(option_market_price, S0, K, T, r, num_steps)\n",
    "print(f\"Implied volatility: {implied_vol:.4f}\")"
   ]
  },
  {
   "cell_type": "markdown",
   "metadata": {},
   "source": [
    "### 2.2 Volatility of the product ###\n",
    "Estimate the 100-trading day backward-looking volatility of the return of your product for each day within your chosen time window. Compare this volatility for each day of your time window to the pricing model implied volatility of your product, which might be derived using a one-period binomial tree model (or alternatively, from a binomial tree evaluated until maturity).\n",
    "Check whether the following instantaneous property derived from Ito’s Lemma is valid for your numerical values:\n",
    "\n",
    "σP,t =σS,t · ∂Pt ·St\n",
    "∂St Pt\n",
    "\n",
    "Note: σS,t and σP,t are the standard deviation of your underlying S and product P re- spectively. Further, St and Pt denote the price of the underlying and product. For your product assume that the value equals the price of your product."
   ]
  },
  {
   "cell_type": "markdown",
   "metadata": {},
   "source": [
    "#### 2.2 Results ####\n",
    "The estimated 100-day backward-looking volatility extrapolated from\n",
    "the past 30 days (daily std * sqrt(100)) is 13.01%. Using Ito’s lemma\n",
    "and a binomial model evaluated until maturity (August, 14th), the model\n",
    "is more or less accurate. The volatility of the S&P500 since June 14th\n",
    "was ~8%, with the option delta being ~0.023, this yielded a ito’s lemma\n",
    "equivalent of ~13%."
   ]
  },
  {
   "cell_type": "code",
   "execution_count": 2,
   "metadata": {},
   "outputs": [
    {
     "name": "stdout",
     "output_type": "stream",
     "text": [
      "Backward-looking volatility of the warrant (100-days): 0.1301\n",
      "Delta (∂P/∂S): 0.0230\n",
      "Check Ito's Lemma: 0.1301 vs 0.1301\n"
     ]
    }
   ],
   "source": [
    "import numpy as np\n",
    "import pandas as pd\n",
    "\n",
    "# 30 day prices, on 3 day intervals\n",
    "price = np.array([0.600, 0.650, 0.710, 1.29, 0.79, 1.1, 1.27, 1.59, 0.800])\n",
    "# finding returns by looping thru price\n",
    "returns = []\n",
    "for i in range(1, len(price)):\n",
    "    returns.append(price[i]/price[i - 1] - 1)\n",
    "returns = np.array(returns)\n",
    "\n",
    "# Calculate the backward-looking volatility\n",
    "backward_volatility_warrant = np.std(returns) / 30 * np.sqrt(100)\n",
    "print(f\"Backward-looking volatility of the warrant (100-days): {backward_volatility_warrant:.4f}\") #30 days cos of no time\n",
    "\n",
    "# values\n",
    "S0 = 5636.76\n",
    "K = K\n",
    "T = T\n",
    "r = r\n",
    "sigma = np.std(returns)\n",
    "num_steps = 27\n",
    "\n",
    "# Delta calculation using binomial model\n",
    "def delta_binomial(S0, K, T, r, sigma, num_steps):\n",
    "    dt = T / num_steps\n",
    "    u = np.exp(sigma * np.sqrt(dt))\n",
    "    d = 1 / u\n",
    "    p = (np.exp(r * dt) - d) / (u - d)\n",
    "    discount_factor = np.exp(-r * dt)\n",
    "    \n",
    "    # Initialize asset prices at maturity\n",
    "    prices = np.zeros(num_steps + 1)\n",
    "    prices[0] = S0 * d**num_steps\n",
    "    for i in range(1, num_steps + 1):\n",
    "        prices[i] = prices[i - 1] * (u / d)\n",
    "    \n",
    "    # Initialize option values at maturity\n",
    "    values = np.maximum(prices - K, 0)\n",
    "    \n",
    "    # Step back through the tree\n",
    "    for i in range(num_steps - 1, -1, -1):\n",
    "        for j in range(i + 1):\n",
    "            values[j] = discount_factor * (p * values[j + 1] + (1 - p) * values[j])\n",
    "            \n",
    "    delta = (values[1] - values[0]) / (prices[1] - prices[0])\n",
    "    return delta\n",
    "\n",
    "delta = delta_binomial(S0, K, T, r, sigma, num_steps)/100 #1 call = 100 shares\n",
    "print(f\"Delta (∂P/∂S): {delta:.4f}\")\n",
    "\n",
    "# Verify Ito's Lemma\n",
    "P_t = 0.800*100 #warrant price July 17th, multipled by 100 cause of the 100 shares\n",
    "sigma_S = 0.0803  #volatility of S&P within the past week\n",
    "ito_check = sigma_S * abs(delta) * (S0 / P_t) #ito check to see whether std warrant is equal\n",
    "print(f\"Check Ito's Lemma: {ito_check:.4f} vs {backward_volatility_warrant:.4f}\")"
   ]
  },
  {
   "cell_type": "markdown",
   "metadata": {},
   "source": [
    "### Part 2.3 Replicating Portfolio\n",
    "Determine the replicating portfolio for your product for each day within your observation window. Additionally, illustrate the equity fraction as a function of the price of the under- lying at a specific point in time. Interpret your results in terms of the characteristics of your product in falling markets."
   ]
  },
  {
   "cell_type": "markdown",
   "metadata": {},
   "source": [
    "#### 2.3 Results #### \n",
    "Interpretation: In falling markets, the equity fraction of the product should\n",
    "decrease, indicating a lower proportion of the portfolio is invested in the\n",
    "underlying asset. This makes sense because this knockout warrant\n",
    "functions like a call option. When markets are rising, you have a greater\n",
    "ability to be ITM and therefore your equity fraction increases, but when\n",
    "markets are underperforming, you want to be de-risking. This helps in\n",
    "reducing the downside risk. This shows exactly that."
   ]
  },
  {
   "cell_type": "code",
   "execution_count": 3,
   "metadata": {},
   "outputs": [
    {
     "data": {
      "text/html": [
       "<div>\n",
       "<style scoped>\n",
       "    .dataframe tbody tr th:only-of-type {\n",
       "        vertical-align: middle;\n",
       "    }\n",
       "\n",
       "    .dataframe tbody tr th {\n",
       "        vertical-align: top;\n",
       "    }\n",
       "\n",
       "    .dataframe thead th {\n",
       "        text-align: right;\n",
       "    }\n",
       "</style>\n",
       "<table border=\"1\" class=\"dataframe\">\n",
       "  <thead>\n",
       "    <tr style=\"text-align: right;\">\n",
       "      <th></th>\n",
       "      <th>Date</th>\n",
       "      <th>Open</th>\n",
       "      <th>High</th>\n",
       "      <th>Low</th>\n",
       "      <th>Close</th>\n",
       "      <th>Adj Close</th>\n",
       "      <th>Volume</th>\n",
       "      <th>log_returns</th>\n",
       "      <th>rolling_volatility</th>\n",
       "    </tr>\n",
       "  </thead>\n",
       "  <tbody>\n",
       "    <tr>\n",
       "      <th>0</th>\n",
       "      <td>2022-07-05</td>\n",
       "      <td>3792.610107</td>\n",
       "      <td>3832.189941</td>\n",
       "      <td>3742.060059</td>\n",
       "      <td>3831.389893</td>\n",
       "      <td>3831.389893</td>\n",
       "      <td>5076590000</td>\n",
       "      <td>0.001583</td>\n",
       "      <td>NaN</td>\n",
       "    </tr>\n",
       "    <tr>\n",
       "      <th>1</th>\n",
       "      <td>2022-07-06</td>\n",
       "      <td>3831.979980</td>\n",
       "      <td>3870.909912</td>\n",
       "      <td>3809.370117</td>\n",
       "      <td>3845.080078</td>\n",
       "      <td>3845.080078</td>\n",
       "      <td>4417720000</td>\n",
       "      <td>0.003567</td>\n",
       "      <td>NaN</td>\n",
       "    </tr>\n",
       "    <tr>\n",
       "      <th>2</th>\n",
       "      <td>2022-07-07</td>\n",
       "      <td>3858.850098</td>\n",
       "      <td>3910.629883</td>\n",
       "      <td>3858.850098</td>\n",
       "      <td>3902.620117</td>\n",
       "      <td>3902.620117</td>\n",
       "      <td>4057770000</td>\n",
       "      <td>0.014854</td>\n",
       "      <td>NaN</td>\n",
       "    </tr>\n",
       "    <tr>\n",
       "      <th>3</th>\n",
       "      <td>2022-07-08</td>\n",
       "      <td>3888.260010</td>\n",
       "      <td>3918.500000</td>\n",
       "      <td>3869.340088</td>\n",
       "      <td>3899.379883</td>\n",
       "      <td>3899.379883</td>\n",
       "      <td>3521620000</td>\n",
       "      <td>-0.000831</td>\n",
       "      <td>NaN</td>\n",
       "    </tr>\n",
       "    <tr>\n",
       "      <th>4</th>\n",
       "      <td>2022-07-11</td>\n",
       "      <td>3880.939941</td>\n",
       "      <td>3880.939941</td>\n",
       "      <td>3847.219971</td>\n",
       "      <td>3854.429932</td>\n",
       "      <td>3854.429932</td>\n",
       "      <td>3423480000</td>\n",
       "      <td>-0.011594</td>\n",
       "      <td>NaN</td>\n",
       "    </tr>\n",
       "  </tbody>\n",
       "</table>\n",
       "</div>"
      ],
      "text/plain": [
       "        Date         Open         High          Low        Close    Adj Close  \\\n",
       "0 2022-07-05  3792.610107  3832.189941  3742.060059  3831.389893  3831.389893   \n",
       "1 2022-07-06  3831.979980  3870.909912  3809.370117  3845.080078  3845.080078   \n",
       "2 2022-07-07  3858.850098  3910.629883  3858.850098  3902.620117  3902.620117   \n",
       "3 2022-07-08  3888.260010  3918.500000  3869.340088  3899.379883  3899.379883   \n",
       "4 2022-07-11  3880.939941  3880.939941  3847.219971  3854.429932  3854.429932   \n",
       "\n",
       "       Volume  log_returns  rolling_volatility  \n",
       "0  5076590000     0.001583                 NaN  \n",
       "1  4417720000     0.003567                 NaN  \n",
       "2  4057770000     0.014854                 NaN  \n",
       "3  3521620000    -0.000831                 NaN  \n",
       "4  3423480000    -0.011594                 NaN  "
      ]
     },
     "execution_count": 3,
     "metadata": {},
     "output_type": "execute_result"
    }
   ],
   "source": [
    "#have the index become first column for data\n",
    "data.reset_index(inplace=True)\n",
    "data.head()"
   ]
  },
  {
   "cell_type": "code",
   "execution_count": 4,
   "metadata": {},
   "outputs": [
    {
     "name": "stdout",
     "output_type": "stream",
     "text": [
      "Equity fraction on 2024-06-03: -0.0457\n"
     ]
    },
    {
     "name": "stderr",
     "output_type": "stream",
     "text": [
      "/var/folders/3y/xmr77c7911v019_nzm6jm2040000gn/T/ipykernel_30671/482700958.py:3: SettingWithCopyWarning: \n",
      "A value is trying to be set on a copy of a slice from a DataFrame.\n",
      "Try using .loc[row_indexer,col_indexer] = value instead\n",
      "\n",
      "See the caveats in the documentation: https://pandas.pydata.org/pandas-docs/stable/user_guide/indexing.html#returning-a-view-versus-a-copy\n",
      "  data['replicating_portfolio'] = (data['Close'] - K) / data['Close']\n"
     ]
    },
    {
     "data": {
      "image/png": "[encoded data removed]",
      "text/plain": [
       "<Figure size 1000x600 with 1 Axes>"
      ]
     },
     "metadata": {},
     "output_type": "display_data"
    }
   ],
   "source": [
    "# Replicating portfolio for each day in the observation window\n",
    "# number of shares to buy/sell\n",
    "data['replicating_portfolio'] = (data['Close'] - K) / data['Close']\n",
    "\n",
    "# Equity fraction as a function of the underlying price at a specific point in time\n",
    "specific_time = '2024-06-03'\n",
    "equity_fraction = data[data['Date'] == specific_time]['replicating_portfolio'].values[0]\n",
    "#dates OKK\n",
    "\n",
    "print(f\"Equity fraction on {specific_time}: {equity_fraction:.4f}\")\n",
    "\n",
    "# Plotting the equity fraction as a function of the underlying price\n",
    "import matplotlib.pyplot as plt\n",
    "\n",
    "plt.figure(figsize=(10, 6))\n",
    "plt.plot(data['Close'], data['replicating_portfolio'], label='Equity Fraction')\n",
    "plt.xlabel('Underlying Price')\n",
    "plt.ylabel('Equity Fraction')\n",
    "plt.title('Equity Fraction as a Function of Underlying Price')\n",
    "plt.legend()\n",
    "plt.show()"
   ]
  }
 ],
 "metadata": {
  "kernelspec": {
   "display_name": "Python 3",
   "language": "python",
   "name": "python3"
  },
  "language_info": {
   "codemirror_mode": {
    "name": "ipython",
    "version": 3
   },
   "file_extension": ".py",
   "mimetype": "text/x-python",
   "name": "python",
   "nbconvert_exporter": "python",
   "pygments_lexer": "ipython3",
   "version": "3.10.7"
  }
 },
 "nbformat": 4,
 "nbformat_minor": 2
}
